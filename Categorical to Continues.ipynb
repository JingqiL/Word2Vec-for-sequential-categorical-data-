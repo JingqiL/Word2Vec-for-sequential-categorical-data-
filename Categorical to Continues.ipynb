{
 "cells": [
  {
   "cell_type": "code",
   "execution_count": 1,
   "metadata": {},
   "outputs": [],
   "source": [
    "import pandas as pd\n",
    "import tensorflow as tf\n",
    "import numpy as np\n",
    "from sklearn.model_selection import train_test_split\n",
    "import gc\n",
    "from gensim.models import Word2Vec\n",
    "from collections import Counter"
   ]
  },
  {
   "cell_type": "code",
   "execution_count": 2,
   "metadata": {},
   "outputs": [],
   "source": [
    "train = pd.read_csv('sortedtrain.csv')"
   ]
  },
  {
   "cell_type": "code",
   "execution_count": null,
   "metadata": {},
   "outputs": [],
   "source": [
    "lst = Counter(train['app'])"
   ]
  },
  {
   "cell_type": "code",
   "execution_count": 8,
   "metadata": {},
   "outputs": [
    {
     "data": {
      "text/plain": [
       "706"
      ]
     },
     "execution_count": 8,
     "metadata": {},
     "output_type": "execute_result"
    }
   ],
   "source": [
    "len(lst)"
   ]
  },
  {
   "cell_type": "code",
   "execution_count": 9,
   "metadata": {},
   "outputs": [],
   "source": [
    "rare = { k:-1 for k, v in lst.items() if v <= 5}"
   ]
  },
  {
   "cell_type": "code",
   "execution_count": 10,
   "metadata": {},
   "outputs": [
    {
     "data": {
      "text/plain": [
       "248"
      ]
     },
     "execution_count": 10,
     "metadata": {},
     "output_type": "execute_result"
    }
   ],
   "source": [
    "len(rare)"
   ]
  },
  {
   "cell_type": "code",
   "execution_count": 11,
   "metadata": {},
   "outputs": [],
   "source": [
    "train['app'] = train['app'].replace(rare)"
   ]
  },
  {
   "cell_type": "code",
   "execution_count": 3,
   "metadata": {},
   "outputs": [],
   "source": [
    "train['app'] = train['app'].astype(str)"
   ]
  },
  {
   "cell_type": "code",
   "execution_count": 12,
   "metadata": {},
   "outputs": [],
   "source": [
    "lst = train.groupby('ip').app.apply(pd.Series.tolist).tolist()"
   ]
  },
  {
   "cell_type": "code",
   "execution_count": 13,
   "metadata": {},
   "outputs": [],
   "source": [
    "model_app = Word2Vec(lst, size = 150, window = 3, min_count=1, workers = 4)"
   ]
  },
  {
   "cell_type": "code",
   "execution_count": 16,
   "metadata": {},
   "outputs": [],
   "source": [
    "#model_app.save('vec_app.txt')"
   ]
  },
  {
   "cell_type": "code",
   "execution_count": 12,
   "metadata": {},
   "outputs": [],
   "source": [
    "lst = Counter(train['channel'])"
   ]
  },
  {
   "cell_type": "code",
   "execution_count": 13,
   "metadata": {},
   "outputs": [
    {
     "data": {
      "text/plain": [
       "202"
      ]
     },
     "execution_count": 13,
     "metadata": {},
     "output_type": "execute_result"
    }
   ],
   "source": [
    "len(lst)"
   ]
  },
  {
   "cell_type": "code",
   "execution_count": 14,
   "metadata": {},
   "outputs": [],
   "source": [
    "rare = { k:-1 for k, v in lst.items() if v <= 5}"
   ]
  },
  {
   "cell_type": "code",
   "execution_count": 15,
   "metadata": {},
   "outputs": [
    {
     "data": {
      "text/plain": [
       "17"
      ]
     },
     "execution_count": 15,
     "metadata": {},
     "output_type": "execute_result"
    }
   ],
   "source": [
    "len(rare)"
   ]
  },
  {
   "cell_type": "code",
   "execution_count": 16,
   "metadata": {},
   "outputs": [],
   "source": [
    "train['channel'] = train['channel'].replace(rare)"
   ]
  },
  {
   "cell_type": "code",
   "execution_count": 8,
   "metadata": {},
   "outputs": [],
   "source": [
    "train['channel'] = train['channel'].astype(str)"
   ]
  },
  {
   "cell_type": "code",
   "execution_count": 26,
   "metadata": {},
   "outputs": [],
   "source": [
    "lst = train.groupby('ip').channel.apply(pd.Series.tolist).tolist()"
   ]
  },
  {
   "cell_type": "code",
   "execution_count": 27,
   "metadata": {},
   "outputs": [],
   "source": [
    "model_channel = Word2Vec(lst, size = 50, window = 3, min_count=1, workers = 4)"
   ]
  },
  {
   "cell_type": "code",
   "execution_count": 28,
   "metadata": {},
   "outputs": [],
   "source": [
    "#model_channel.save('vec_channel.txt')"
   ]
  },
  {
   "cell_type": "code",
   "execution_count": 3,
   "metadata": {},
   "outputs": [],
   "source": [
    "lst = Counter(train['os'])"
   ]
  },
  {
   "cell_type": "code",
   "execution_count": 4,
   "metadata": {},
   "outputs": [
    {
     "data": {
      "text/plain": [
       "800"
      ]
     },
     "execution_count": 4,
     "metadata": {},
     "output_type": "execute_result"
    }
   ],
   "source": [
    "len(lst)"
   ]
  },
  {
   "cell_type": "code",
   "execution_count": 5,
   "metadata": {},
   "outputs": [],
   "source": [
    "rare = { k:-1 for k, v in lst.items() if v <= 5}"
   ]
  },
  {
   "cell_type": "code",
   "execution_count": 6,
   "metadata": {},
   "outputs": [
    {
     "data": {
      "text/plain": [
       "460"
      ]
     },
     "execution_count": 6,
     "metadata": {},
     "output_type": "execute_result"
    }
   ],
   "source": [
    "len(rare)"
   ]
  },
  {
   "cell_type": "code",
   "execution_count": 11,
   "metadata": {},
   "outputs": [],
   "source": [
    "a = list(rare.keys())[400:]\n",
    "a = dict(zip(a,[-1]*60))"
   ]
  },
  {
   "cell_type": "code",
   "execution_count": 12,
   "metadata": {},
   "outputs": [],
   "source": [
    "train['os'] = train['os'].replace(a)"
   ]
  },
  {
   "cell_type": "code",
   "execution_count": 13,
   "metadata": {},
   "outputs": [],
   "source": [
    "train['os'] = train['os'].astype(str)"
   ]
  },
  {
   "cell_type": "code",
   "execution_count": 14,
   "metadata": {},
   "outputs": [],
   "source": [
    "lst = train.groupby('ip').os.apply(pd.Series.tolist).tolist()"
   ]
  },
  {
   "cell_type": "code",
   "execution_count": 15,
   "metadata": {},
   "outputs": [],
   "source": [
    "model_os = Word2Vec(lst, size = 50, window = 3, min_count=1, workers = 4)"
   ]
  },
  {
   "cell_type": "code",
   "execution_count": 17,
   "metadata": {},
   "outputs": [],
   "source": [
    "#model_os.save('vec_os.txt')"
   ]
  },
  {
   "cell_type": "code",
   "execution_count": null,
   "metadata": {},
   "outputs": [],
   "source": [
    "train"
   ]
  },
  {
   "cell_type": "code",
   "execution_count": 26,
   "metadata": {},
   "outputs": [],
   "source": [
    "lst = Counter(train['device'])"
   ]
  },
  {
   "cell_type": "code",
   "execution_count": 27,
   "metadata": {},
   "outputs": [
    {
     "data": {
      "text/plain": [
       "3475"
      ]
     },
     "execution_count": 27,
     "metadata": {},
     "output_type": "execute_result"
    }
   ],
   "source": [
    "len(lst)"
   ]
  },
  {
   "cell_type": "code",
   "execution_count": 28,
   "metadata": {},
   "outputs": [],
   "source": [
    "rare = { k:-1 for k, v in lst.items() if v <= 5}"
   ]
  },
  {
   "cell_type": "code",
   "execution_count": 29,
   "metadata": {},
   "outputs": [
    {
     "data": {
      "text/plain": [
       "1927"
      ]
     },
     "execution_count": 29,
     "metadata": {},
     "output_type": "execute_result"
    }
   ],
   "source": [
    "len(rare)"
   ]
  },
  {
   "cell_type": "code",
   "execution_count": 48,
   "metadata": {},
   "outputs": [],
   "source": [
    "a = list(rare.keys())[1800:]\n",
    "a = dict(zip(a,[-1]*127))"
   ]
  },
  {
   "cell_type": "code",
   "execution_count": 49,
   "metadata": {},
   "outputs": [],
   "source": [
    "train['device'] = train['device'].replace(a)"
   ]
  },
  {
   "cell_type": "code",
   "execution_count": 37,
   "metadata": {},
   "outputs": [],
   "source": [
    "train['device'] = train['device'].astype(str)"
   ]
  },
  {
   "cell_type": "code",
   "execution_count": 38,
   "metadata": {},
   "outputs": [],
   "source": [
    "lst = train.groupby('ip').device.apply(pd.Series.tolist).tolist()"
   ]
  },
  {
   "cell_type": "code",
   "execution_count": 39,
   "metadata": {},
   "outputs": [],
   "source": [
    "model_device = Word2Vec(lst, size = 50, window = 3, min_count=1, workers = 4)"
   ]
  },
  {
   "cell_type": "code",
   "execution_count": 40,
   "metadata": {},
   "outputs": [],
   "source": [
    "#model_device.save('vec_device.txt')"
   ]
  },
  {
   "cell_type": "code",
   "execution_count": 3,
   "metadata": {},
   "outputs": [],
   "source": [
    "train['day'] = pd.to_datetime(train.click_time).dt.day.astype('float32')\n",
    "train['hour'] = pd.to_datetime(train.click_time).dt.hour.astype('float32')"
   ]
  },
  {
   "cell_type": "code",
   "execution_count": 4,
   "metadata": {},
   "outputs": [],
   "source": [
    "train = train.drop(columns = ['click_time'])"
   ]
  },
  {
   "cell_type": "code",
   "execution_count": 5,
   "metadata": {},
   "outputs": [],
   "source": [
    "train['count'] = train.groupby(['ip','day','hour'])['ip'].transform('count')"
   ]
  },
  {
   "cell_type": "code",
   "execution_count": 6,
   "metadata": {},
   "outputs": [],
   "source": [
    "train = train.drop(columns = ['day','hour','ip'])"
   ]
  },
  {
   "cell_type": "code",
   "execution_count": 51,
   "metadata": {},
   "outputs": [],
   "source": [
    "#train.to_csv('ready.csv', index = False)"
   ]
  },
  {
   "cell_type": "code",
   "execution_count": 2,
   "metadata": {},
   "outputs": [],
   "source": [
    "test = pd.read_csv('test.csv')"
   ]
  },
  {
   "cell_type": "code",
   "execution_count": 3,
   "metadata": {},
   "outputs": [],
   "source": [
    "test['os'] = test['os'].astype(str)\n",
    "test['app'] = test['app'].astype(str)\n",
    "test['device'] = test['device'].astype(str)\n",
    "test['channel'] = test['channel'].astype(str)"
   ]
  },
  {
   "cell_type": "code",
   "execution_count": 4,
   "metadata": {},
   "outputs": [],
   "source": [
    "test['day'] = pd.to_datetime(test.click_time).dt.day.astype('float32')\n",
    "test['hour'] = pd.to_datetime(test.click_time).dt.hour.astype('float32')"
   ]
  },
  {
   "cell_type": "code",
   "execution_count": 5,
   "metadata": {},
   "outputs": [],
   "source": [
    "test['count'] = test.groupby(['day','hour','ip'])['ip'].transform('count')"
   ]
  },
  {
   "cell_type": "code",
   "execution_count": 6,
   "metadata": {},
   "outputs": [],
   "source": [
    "test = test.drop(columns = ['click_time','day','hour','ip'])"
   ]
  },
  {
   "cell_type": "code",
   "execution_count": 56,
   "metadata": {},
   "outputs": [],
   "source": [
    "lst_app = list(model_app.wv.vocab)\n",
    "lst_os = list(model_os.wv.vocab)\n",
    "lst_channel = list(model_channel.wv.vocab)\n",
    "lst_device = list(model_device.wv.vocab)"
   ]
  },
  {
   "cell_type": "code",
   "execution_count": 9,
   "metadata": {},
   "outputs": [],
   "source": [
    "lst_app1 = list(set(list(test['app'])))\n",
    "lst_device1 = list(set(list(test['device'])))\n",
    "lst_os1 = list(set(list(test['os'])))\n",
    "lst_channel1 = list(set(list(test['channel'])))"
   ]
  },
  {
   "cell_type": "code",
   "execution_count": null,
   "metadata": {},
   "outputs": [],
   "source": [
    "l_app = {}\n",
    "l_device = {}\n",
    "l_os = {}\n",
    "l_channel = {}\n",
    "for i in lst_app1:\n",
    "    if i not in lst_app:\n",
    "        l_app[i] = '-1'\n",
    "        \n",
    "for i in lst_device1:\n",
    "    if i not in lst_device:\n",
    "        l_device[i] = '-1'\n",
    "\n",
    "for i in lst_os1:\n",
    "    if i not in lst_os:\n",
    "        l_os[i] = '-1'\n",
    "\n",
    "for i in lst_channel1:\n",
    "    if i not in lst_channel:\n",
    "        l_channel[i] = '-1'"
   ]
  },
  {
   "cell_type": "code",
   "execution_count": 11,
   "metadata": {},
   "outputs": [
    {
     "name": "stdout",
     "output_type": "stream",
     "text": [
      "58\n",
      "747\n",
      "121\n",
      "2\n"
     ]
    }
   ],
   "source": [
    "print(len(l_app))\n",
    "print(len(l_device))\n",
    "print(len(l_os))\n",
    "print(len(l_channel))"
   ]
  },
  {
   "cell_type": "code",
   "execution_count": 12,
   "metadata": {},
   "outputs": [],
   "source": [
    "test['os'] = test['os'].replace(l_os)\n",
    "test['channel'] = test['channel'].replace(l_channel)\n",
    "test['app'] = test['app'].replace(l_app)"
   ]
  },
  {
   "cell_type": "code",
   "execution_count": 18,
   "metadata": {},
   "outputs": [],
   "source": [
    "a = list(l_device.keys())[600:747]\n",
    "a = dict(zip(a,[-1]*147))"
   ]
  },
  {
   "cell_type": "code",
   "execution_count": 62,
   "metadata": {},
   "outputs": [],
   "source": [
    "test['device'] = test['device'].replace(l_device)"
   ]
  },
  {
   "cell_type": "code",
   "execution_count": 63,
   "metadata": {},
   "outputs": [],
   "source": [
    "#test.to_csv('testready.csv', index = False)"
   ]
  },
  {
   "cell_type": "markdown",
   "metadata": {},
   "source": [
    "# Start here!"
   ]
  },
  {
   "cell_type": "code",
   "execution_count": 1,
   "metadata": {},
   "outputs": [],
   "source": [
    "import pandas as pd\n",
    "import tensorflow as tf\n",
    "import numpy as np\n",
    "from sklearn.model_selection import train_test_split\n",
    "import gc\n",
    "from gensim.models import Word2Vec\n",
    "from collections import Counter\n",
    "from sklearn import metrics"
   ]
  },
  {
   "cell_type": "code",
   "execution_count": 2,
   "metadata": {},
   "outputs": [],
   "source": [
    "train = pd.read_csv('ready.csv')"
   ]
  },
  {
   "cell_type": "code",
   "execution_count": 3,
   "metadata": {},
   "outputs": [],
   "source": [
    "test = pd.read_csv('testready.csv')"
   ]
  },
  {
   "cell_type": "code",
   "execution_count": 4,
   "metadata": {},
   "outputs": [],
   "source": [
    "model_app = Word2Vec.load('vec_app.txt')\n",
    "model_os = Word2Vec.load('vec_os.txt')\n",
    "model_device = Word2Vec.load('vec_device.txt')\n",
    "model_channel = Word2Vec.load('vec_channel.txt')"
   ]
  },
  {
   "cell_type": "code",
   "execution_count": 5,
   "metadata": {},
   "outputs": [],
   "source": [
    "train['app'] = train['app'].astype(str)\n",
    "train['device'] = train['device'].astype(str)\n",
    "train['os'] = train['os'].astype(str)\n",
    "train['channel'] = train['channel'].astype(str)"
   ]
  },
  {
   "cell_type": "code",
   "execution_count": 6,
   "metadata": {},
   "outputs": [],
   "source": [
    "test['app'] = test['app'].astype(str)\n",
    "test['device'] = test['device'].astype(str)\n",
    "test['os'] = test['os'].astype(str)\n",
    "test['channel'] = test['channel'].astype(str)"
   ]
  },
  {
   "cell_type": "code",
   "execution_count": 7,
   "metadata": {},
   "outputs": [],
   "source": [
    "def generate_batch(data, batch_size, num_epochs, shuffle=True):\n",
    "    data = np.array(data)\n",
    "    data_size = len(data)\n",
    "    num_batches_per_epoch = int((len(data)-1)/batch_size) + 1\n",
    "    l = 0\n",
    "    for epoch in range(num_epochs):\n",
    "        l += 1\n",
    "        if shuffle:\n",
    "            shuffle_indices = np.random.permutation(np.arange(data_size))\n",
    "            shuffled_data = data[shuffle_indices]\n",
    "        else:\n",
    "            shuffled_data = data\n",
    "        for batch_num in range(num_batches_per_epoch):\n",
    "            start_index = batch_num * batch_size\n",
    "            end_index = min((batch_num + 1) * batch_size, data_size)\n",
    "            yield shuffled_data[start_index:end_index]"
   ]
  },
  {
   "cell_type": "code",
   "execution_count": 8,
   "metadata": {},
   "outputs": [],
   "source": [
    "train1 = train.iloc[0:3698078,:]\n",
    "train2 = train.iloc[3698078:3698078*2,:]\n",
    "train3 = train.iloc[3698078*2:3698078*3,:]\n",
    "train4 = train.iloc[3698078*3:3698078*4,:]\n",
    "train5 = train.iloc[3698078*4:3698078*5,:]"
   ]
  },
  {
   "cell_type": "code",
   "execution_count": 9,
   "metadata": {},
   "outputs": [
    {
     "name": "stdout",
     "output_type": "stream",
     "text": [
      "0.0012249606417171297\n",
      "0.0014837437176825367\n",
      "0.001479687556617248\n",
      "0.0014642741445691518\n",
      "0.0012468639114696877\n"
     ]
    }
   ],
   "source": [
    "print(train1['is_attributed'].mean())\n",
    "print(train2['is_attributed'].mean())\n",
    "print(train3['is_attributed'].mean())\n",
    "print(train4['is_attributed'].mean())\n",
    "print(train5['is_attributed'].mean())"
   ]
  },
  {
   "cell_type": "code",
   "execution_count": 10,
   "metadata": {},
   "outputs": [
    {
     "data": {
      "text/plain": [
       "313"
      ]
     },
     "execution_count": 10,
     "metadata": {},
     "output_type": "execute_result"
    }
   ],
   "source": [
    "del train \n",
    "gc.collect()"
   ]
  },
  {
   "cell_type": "code",
   "execution_count": 11,
   "metadata": {},
   "outputs": [],
   "source": [
    "batches1 = generate_batch(train1, 10000, 1)\n",
    "batches2 = generate_batch(train2, 10000, 1)\n",
    "batches3 = generate_batch(train3, 10000, 1)\n",
    "batches4 = generate_batch(train4, 10000, 1)\n",
    "batches5 = generate_batch(train5, 10000, 1)\n",
    "batches6 = generate_batch(train1, 10000, 1)\n",
    "batches7 = generate_batch(train2, 10000, 1)\n",
    "batches8 = generate_batch(train3, 10000, 1)\n",
    "batches9 = generate_batch(train4, 10000, 1)\n",
    "batches10 = generate_batch(train5, 10000, 1)\n",
    "batches11 = generate_batch(train1, 10000, 1)\n",
    "batches12 = generate_batch(train2, 10000, 1)\n",
    "batches13 = generate_batch(train3, 10000, 1)\n",
    "batches14 = generate_batch(train4, 10000, 1)\n",
    "batches15 = generate_batch(train5, 10000, 1)\n",
    "batches16 = generate_batch(train1, 10000, 1)\n",
    "batches17 = generate_batch(train2, 10000, 1)\n",
    "batches18 = generate_batch(train3, 10000, 1)\n",
    "batches19 = generate_batch(train4, 10000, 1)\n",
    "batches20 = generate_batch(train5, 10000, 1)\n",
    "batches21 = generate_batch(train1, 10000, 1)\n",
    "batches22 = generate_batch(train2, 10000, 1)\n",
    "batches23 = generate_batch(train3, 10000, 1)\n",
    "batches24 = generate_batch(train4, 10000, 1)\n",
    "batches25 = generate_batch(train5, 10000, 1)"
   ]
  },
  {
   "cell_type": "code",
   "execution_count": 12,
   "metadata": {},
   "outputs": [],
   "source": [
    "batch_bag1 = [batches1,batches2,batches3,batches4,batches5]\n",
    "batch_bag2 = [batches6,batches7,batches8,batches9,batches10]\n",
    "batch_bag3 = [batches11,batches12,batches13,batches14,batches15]\n",
    "batch_bag4 = [batches16,batches17,batches18,batches19,batches20]\n",
    "batch_bag5 = [batches21,batches22,batches23,batches24,batches25]"
   ]
  },
  {
   "cell_type": "code",
   "execution_count": 13,
   "metadata": {},
   "outputs": [],
   "source": [
    "batch_bags = [batch_bag1,batch_bag2,batch_bag3,batch_bag4,batch_bag5]"
   ]
  },
  {
   "cell_type": "code",
   "execution_count": 14,
   "metadata": {},
   "outputs": [],
   "source": [
    "input_x = tf.placeholder(tf.float32, [None, 301])\n",
    "input_y = tf.placeholder(tf.float32, [None, 2])"
   ]
  },
  {
   "cell_type": "code",
   "execution_count": 15,
   "metadata": {},
   "outputs": [],
   "source": [
    "w1 = tf.Variable(tf.random_normal([301, 301], stddev = 0.05), name = 'w1')\n",
    "b1 = tf.Variable(tf.random_normal([301], stddev = 0.05), name = 'b1')\n",
    "w2 = tf.Variable(tf.random_normal([301, 150], stddev = 0.05), name = 'w2')\n",
    "b2 = tf.Variable(tf.random_normal([150], stddev = 0.05), name = 'b2')\n",
    "w3 = tf.Variable(tf.random_normal([150, 150], stddev = 0.05), name = 'w3')\n",
    "b3 = tf.Variable(tf.random_normal([150], stddev = 0.05), name = 'b3')\n",
    "w4 = tf.Variable(tf.random_normal([150, 150], stddev = 0.05), name = 'w4')\n",
    "b4 = tf.Variable(tf.random_normal([150], stddev = 0.05), name = 'b4')\n",
    "w5 = tf.Variable(tf.random_normal([150, 2], stddev = 0.05), name = 'w5')\n",
    "b5 = tf.Variable(tf.random_normal([2], stddev = 0.05), name = 'b5')"
   ]
  },
  {
   "cell_type": "code",
   "execution_count": 16,
   "metadata": {},
   "outputs": [],
   "source": [
    "layer1 = tf.nn.xw_plus_b(input_x, w1, b1, name = 'layer1')\n",
    "layer1 = tf.nn.relu(layer1)\n",
    "layer1 = tf.nn.dropout(layer1,0.8)\n",
    "layer2 = tf.nn.xw_plus_b(layer1, w2, b2, name = 'layer2')\n",
    "layer2 = tf.nn.relu(layer2)\n",
    "layer3 = tf.nn.xw_plus_b(layer2, w3, b3, name = 'layer3')\n",
    "layer3 = tf.nn.relu(layer3)\n",
    "layer4 = tf.nn.xw_plus_b(layer3, w4, b4, name = 'layer4')\n",
    "layer4 = tf.nn.relu(layer4)\n",
    "layer5 = tf.nn.xw_plus_b(layer4, w5, b5, name = 'layer5')\n",
    "prediction = tf.nn.softmax(layer5)"
   ]
  },
  {
   "cell_type": "code",
   "execution_count": 17,
   "metadata": {},
   "outputs": [],
   "source": [
    "loss = tf.reduce_mean(tf.nn.softmax_cross_entropy_with_logits_v2(logits = layer5, labels = input_y))\n",
    "optimizer = tf.train.AdamOptimizer(learning_rate=0.0016).minimize(loss)\n",
    "accuracy = tf.reduce_mean(tf.cast(tf.equal(tf.argmax(input_y, 1), tf.argmax(prediction, 1)), tf.float32))"
   ]
  },
  {
   "cell_type": "code",
   "execution_count": 18,
   "metadata": {},
   "outputs": [],
   "source": [
    "test_blocks = generate_batch(test, 20000, 1, shuffle = False)"
   ]
  },
  {
   "cell_type": "code",
   "execution_count": 19,
   "metadata": {},
   "outputs": [
    {
     "name": "stdout",
     "output_type": "stream",
     "text": [
      "Index(['app', 'device', 'os', 'channel', 'count'], dtype='object')\n",
      "Index(['app', 'device', 'os', 'channel', 'is_attributed', 'count'], dtype='object')\n"
     ]
    }
   ],
   "source": [
    "print(test.columns)\n",
    "print(train1.columns)"
   ]
  },
  {
   "cell_type": "code",
   "execution_count": 20,
   "metadata": {},
   "outputs": [
    {
     "data": {
      "text/plain": [
       "1850"
      ]
     },
     "execution_count": 20,
     "metadata": {},
     "output_type": "execute_result"
    }
   ],
   "source": [
    "(int((len(train1)-1)/10000) + 1) * 5"
   ]
  },
  {
   "cell_type": "code",
   "execution_count": 21,
   "metadata": {},
   "outputs": [],
   "source": [
    "submission = pd.read_csv(\"sample_submission.csv\")"
   ]
  },
  {
   "cell_type": "code",
   "execution_count": 22,
   "metadata": {},
   "outputs": [
    {
     "name": "stdout",
     "output_type": "stream",
     "text": [
      "Start!\n",
      "Epoch 1 Start!\n"
     ]
    },
    {
     "name": "stderr",
     "output_type": "stream",
     "text": [
      "/Library/Frameworks/Python.framework/Versions/3.6/lib/python3.6/site-packages/ipykernel_launcher.py:21: SettingWithCopyWarning: \n",
      "A value is trying to be set on a copy of a slice from a DataFrame.\n",
      "Try using .loc[row_indexer,col_indexer] = value instead\n",
      "\n",
      "See the caveats in the documentation: http://pandas.pydata.org/pandas-docs/stable/indexing.html#indexing-view-versus-copy\n"
     ]
    },
    {
     "name": "stdout",
     "output_type": "stream",
     "text": [
      "Average loss is: 0.10638421100268543, Average accuracy is: 0.9972904701812847, Average AUC is: 0.8328819993442493\n",
      "Epoch 2 Start!\n",
      "Average loss is: 0.016555580908206066, Average accuracy is: 0.9985921183147946, Average AUC is: 0.8861875331935268\n",
      "Epoch 3 Start!\n",
      "Average loss is: 0.006417900356401161, Average accuracy is: 0.9988564408469844, Average AUC is: 0.9198317908164891\n",
      "Epoch 4 Start!\n",
      "Average loss is: 0.006119146412490188, Average accuracy is: 0.9988606894982828, Average AUC is: 0.9318202171628155\n",
      "Epoch 5 Start!\n",
      "Average loss is: 0.005927646759570249, Average accuracy is: 0.9988624161320764, Average AUC is: 0.9378347502072758\n",
      "Prediction Start!\n",
      "Finish!\n"
     ]
    }
   ],
   "source": [
    "init_op = tf.global_variables_initializer()\n",
    "with tf.Session() as sess:\n",
    "    \n",
    "    sess.run(init_op)\n",
    "    \n",
    "    print('Start!')\n",
    "    i = 0\n",
    "    for batch_bag in batch_bags:\n",
    "        i += 1\n",
    "        print('Epoch ' + str(i) + ' Start!')\n",
    "        avg_loss = 0\n",
    "        avg_acc = 0\n",
    "        avg_auc = 0\n",
    "        for batches in batch_bag:\n",
    "            for batch in batches:\n",
    "                batch = pd.DataFrame(batch, columns = ['app','device','os','channel','is_attributed','count'])\n",
    "                x_batch = batch.loc[:, batch.columns != 'is_attributed']\n",
    "                y_batch = batch.loc[:, batch.columns == 'is_attributed']\n",
    "                x_batch = pd.concat([x_batch, pd.DataFrame(model_app.wv[x_batch['app']]), pd.DataFrame(model_channel.wv[x_batch['channel']]), pd.DataFrame(model_os.wv[x_batch['os']]), pd.DataFrame(model_device.wv[x_batch['device']])],axis = 1)\n",
    "                x_batch = x_batch.drop(columns = ['app','os','device','channel'])\n",
    "                y_batch['is_not_attributed'] = 1 - y_batch['is_attributed']\n",
    "                _,c, acc, pred = sess.run([optimizer, loss, accuracy, prediction],feed_dict = {input_x: x_batch, input_y: y_batch})\n",
    "                avg_loss += c\n",
    "                avg_acc += acc\n",
    "                avg_auc += metrics.roc_auc_score(y_batch['is_attributed'].astype(int), pred[:,0])\n",
    "        print('Average loss is: ' + str(avg_loss/1850) + ', Average accuracy is: ' + str(avg_acc/1850) + ', Average AUC is: ' + str(avg_auc/1850))\n",
    "    \n",
    "    print('Prediction Start!')\n",
    "    \n",
    "    df = pd.DataFrame()\n",
    "    for block in test_blocks:\n",
    "        block = pd.DataFrame(block, columns = ['app', 'device', 'os', 'channel', 'count'])\n",
    "        block = pd.concat([block, pd.DataFrame(model_app.wv[block['app']]), pd.DataFrame(model_channel.wv[block['channel']]), pd.DataFrame(model_os.wv[block['os']]), pd.DataFrame(model_device.wv[block['device']])],axis = 1)\n",
    "        block = block.drop(columns = ['app','device','os','channel'])\n",
    "        pred = sess.run(prediction, feed_dict = {input_x: block})\n",
    "        df = df.append(pd.DataFrame(pred))\n",
    "    \n",
    "    print('Finish!')"
   ]
  },
  {
   "cell_type": "code",
   "execution_count": 81,
   "metadata": {},
   "outputs": [
    {
     "data": {
      "text/plain": [
       "click_id         9996.844930\n",
       "is_attributed       0.000584\n",
       "dtype: float64"
      ]
     },
     "execution_count": 81,
     "metadata": {},
     "output_type": "execute_result"
    }
   ],
   "source": [
    "df.round().mean()"
   ]
  },
  {
   "cell_type": "code",
   "execution_count": 121,
   "metadata": {},
   "outputs": [
    {
     "data": {
      "text/plain": [
       "0    0.000499\n",
       "1    0.892858\n",
       "dtype: float32"
      ]
     },
     "execution_count": 121,
     "metadata": {},
     "output_type": "execute_result"
    }
   ],
   "source": [
    "df.round().mean()"
   ]
  },
  {
   "cell_type": "code",
   "execution_count": 142,
   "metadata": {},
   "outputs": [
    {
     "data": {
      "text/plain": [
       "0    0.000527\n",
       "1    0.892858\n",
       "dtype: float32"
      ]
     },
     "execution_count": 142,
     "metadata": {},
     "output_type": "execute_result"
    }
   ],
   "source": [
    "df.round().mean()"
   ]
  },
  {
   "cell_type": "code",
   "execution_count": 23,
   "metadata": {},
   "outputs": [
    {
     "data": {
      "text/plain": [
       "0    0.000537\n",
       "1    0.892858\n",
       "dtype: float32"
      ]
     },
     "execution_count": 23,
     "metadata": {},
     "output_type": "execute_result"
    }
   ],
   "source": [
    "df.round().mean()"
   ]
  },
  {
   "cell_type": "code",
   "execution_count": 24,
   "metadata": {},
   "outputs": [],
   "source": [
    "df.columns = ['is_attributed','b']"
   ]
  },
  {
   "cell_type": "code",
   "execution_count": 25,
   "metadata": {},
   "outputs": [],
   "source": [
    "submission['is_attributed'] = np.array(df['is_attributed'])\n",
    "submission.to_csv(\"submission.csv\", index=False)"
   ]
  },
  {
   "cell_type": "code",
   "execution_count": null,
   "metadata": {},
   "outputs": [],
   "source": []
  }
 ],
 "metadata": {
  "kernelspec": {
   "display_name": "Python 3",
   "language": "python",
   "name": "python3"
  },
  "language_info": {
   "codemirror_mode": {
    "name": "ipython",
    "version": 3
   },
   "file_extension": ".py",
   "mimetype": "text/x-python",
   "name": "python",
   "nbconvert_exporter": "python",
   "pygments_lexer": "ipython3",
   "version": "3.6.2"
  }
 },
 "nbformat": 4,
 "nbformat_minor": 2
}
